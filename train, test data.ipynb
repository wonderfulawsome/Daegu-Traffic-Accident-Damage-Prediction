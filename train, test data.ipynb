{
 "cells": [
  {
   "cell_type": "code",
   "execution_count": 52,
   "id": "58b81ea4",
   "metadata": {},
   "outputs": [
    {
     "data": {
      "text/html": [
       "<div>\n",
       "<style scoped>\n",
       "    .dataframe tbody tr th:only-of-type {\n",
       "        vertical-align: middle;\n",
       "    }\n",
       "\n",
       "    .dataframe tbody tr th {\n",
       "        vertical-align: top;\n",
       "    }\n",
       "\n",
       "    .dataframe thead th {\n",
       "        text-align: right;\n",
       "    }\n",
       "</style>\n",
       "<table border=\"1\" class=\"dataframe\">\n",
       "  <thead>\n",
       "    <tr style=\"text-align: right;\">\n",
       "      <th></th>\n",
       "      <th>ID</th>\n",
       "      <th>사고일시</th>\n",
       "      <th>요일</th>\n",
       "      <th>기상상태</th>\n",
       "      <th>시군구</th>\n",
       "      <th>도로형태</th>\n",
       "      <th>노면상태</th>\n",
       "      <th>사고유형</th>\n",
       "    </tr>\n",
       "  </thead>\n",
       "  <tbody>\n",
       "    <tr>\n",
       "      <th>0</th>\n",
       "      <td>ACCIDENT_39609</td>\n",
       "      <td>2022-01-01 01</td>\n",
       "      <td>토요일</td>\n",
       "      <td>맑음</td>\n",
       "      <td>대구광역시 수성구 상동</td>\n",
       "      <td>교차로 - 교차로안</td>\n",
       "      <td>건조</td>\n",
       "      <td>차대사람</td>\n",
       "    </tr>\n",
       "    <tr>\n",
       "      <th>1</th>\n",
       "      <td>ACCIDENT_39610</td>\n",
       "      <td>2022-01-01 01</td>\n",
       "      <td>토요일</td>\n",
       "      <td>맑음</td>\n",
       "      <td>대구광역시 수성구 지산동</td>\n",
       "      <td>단일로 - 기타</td>\n",
       "      <td>건조</td>\n",
       "      <td>차대사람</td>\n",
       "    </tr>\n",
       "    <tr>\n",
       "      <th>2</th>\n",
       "      <td>ACCIDENT_39611</td>\n",
       "      <td>2022-01-01 04</td>\n",
       "      <td>토요일</td>\n",
       "      <td>맑음</td>\n",
       "      <td>대구광역시 수성구 수성동2가</td>\n",
       "      <td>교차로 - 교차로안</td>\n",
       "      <td>건조</td>\n",
       "      <td>차대차</td>\n",
       "    </tr>\n",
       "    <tr>\n",
       "      <th>3</th>\n",
       "      <td>ACCIDENT_39612</td>\n",
       "      <td>2022-01-01 04</td>\n",
       "      <td>토요일</td>\n",
       "      <td>맑음</td>\n",
       "      <td>대구광역시 수성구 신매동</td>\n",
       "      <td>단일로 - 기타</td>\n",
       "      <td>건조</td>\n",
       "      <td>차대차</td>\n",
       "    </tr>\n",
       "    <tr>\n",
       "      <th>4</th>\n",
       "      <td>ACCIDENT_39613</td>\n",
       "      <td>2022-01-01 06</td>\n",
       "      <td>토요일</td>\n",
       "      <td>맑음</td>\n",
       "      <td>대구광역시 달서구 감삼동</td>\n",
       "      <td>교차로 - 교차로안</td>\n",
       "      <td>건조</td>\n",
       "      <td>차대차</td>\n",
       "    </tr>\n",
       "  </tbody>\n",
       "</table>\n",
       "</div>"
      ],
      "text/plain": [
       "               ID           사고일시   요일 기상상태              시군구        도로형태 노면상태  \\\n",
       "0  ACCIDENT_39609  2022-01-01 01  토요일   맑음     대구광역시 수성구 상동  교차로 - 교차로안   건조   \n",
       "1  ACCIDENT_39610  2022-01-01 01  토요일   맑음    대구광역시 수성구 지산동    단일로 - 기타   건조   \n",
       "2  ACCIDENT_39611  2022-01-01 04  토요일   맑음  대구광역시 수성구 수성동2가  교차로 - 교차로안   건조   \n",
       "3  ACCIDENT_39612  2022-01-01 04  토요일   맑음    대구광역시 수성구 신매동    단일로 - 기타   건조   \n",
       "4  ACCIDENT_39613  2022-01-01 06  토요일   맑음    대구광역시 달서구 감삼동  교차로 - 교차로안   건조   \n",
       "\n",
       "   사고유형  \n",
       "0  차대사람  \n",
       "1  차대사람  \n",
       "2   차대차  \n",
       "3   차대차  \n",
       "4   차대차  "
      ]
     },
     "execution_count": 52,
     "metadata": {},
     "output_type": "execute_result"
    }
   ],
   "source": [
    "import pandas as pd\n",
    "train_data='C:/Users/82106/Desktop/데이터분석 프로젝트/대구 교통사고 피해 예측 AI 경진대회/open/open/train.csv'\n",
    "test_data='C:/Users/82106/Desktop/데이터분석 프로젝트/대구 교통사고 피해 예측 AI 경진대회/open/open/test.csv'\n",
    "train_df = pd.read_csv(train_data)\n",
    "test_df = pd.read_csv(test_data)\n",
    "train_df.head()\n",
    "test_df.head()"
   ]
  },
  {
   "cell_type": "code",
   "execution_count": 53,
   "id": "a6f41eeb",
   "metadata": {},
   "outputs": [
    {
     "data": {
      "text/plain": [
       "피해운전자 차종      991\n",
       "피해운전자 성별      991\n",
       "피해운전자 연령      991\n",
       "피해운전자 상해정도    991\n",
       "dtype: int64"
      ]
     },
     "execution_count": 53,
     "metadata": {},
     "output_type": "execute_result"
    }
   ],
   "source": [
    "# 결측치 확인\n",
    "train_missing_values = train_df.isnull().sum()\n",
    "train_missing_values[train_missing_values > 0]\n"
   ]
  },
  {
   "cell_type": "code",
   "execution_count": 54,
   "id": "7cd298db",
   "metadata": {},
   "outputs": [
    {
     "data": {
      "text/plain": [
       "(ID             0\n",
       " 사고일시           0\n",
       " 요일             0\n",
       " 기상상태           0\n",
       " 시군구            0\n",
       " 도로형태           0\n",
       " 노면상태           0\n",
       " 사고유형           0\n",
       " 사고유형 - 세부분류    0\n",
       " 법규위반           0\n",
       " 가해운전자 차종       0\n",
       " 가해운전자 성별       0\n",
       " 가해운전자 연령       0\n",
       " 가해운전자 상해정도     0\n",
       " 피해운전자 차종       0\n",
       " 피해운전자 성별       0\n",
       " 피해운전자 연령       0\n",
       " 피해운전자 상해정도     0\n",
       " 사망자수           0\n",
       " 중상자수           0\n",
       " 경상자수           0\n",
       " 부상자수           0\n",
       " ECLO           0\n",
       " dtype: int64,\n",
       " 피해운전자 차종       승용\n",
       " 피해운전자 성별        남\n",
       " 피해운전자 연령      59세\n",
       " 피해운전자 상해정도     경상\n",
       " Name: 0, dtype: object)"
      ]
     },
     "execution_count": 54,
     "metadata": {},
     "output_type": "execute_result"
    }
   ],
   "source": [
    "# 각 변수의 가장 빈번한 값 찾기\n",
    "most_frequent_values = train_df[['피해운전자 차종', '피해운전자 성별', '피해운전자 연령', '피해운전자 상해정도']].mode().iloc[0]\n",
    "most_frequent_values\n",
    "\n",
    "# 결측치를 가장 빈번한 값으로 대체\n",
    "train_df_filled = train_df.fillna(most_frequent_values)\n",
    "\n",
    "# 대체 후 결측치 확인\n",
    "missing_values_after_filling = train_df_filled.isnull().sum()\n",
    "missing_values_after_filling, most_frequent_values\n"
   ]
  },
  {
   "cell_type": "code",
   "execution_count": 55,
   "id": "7bcfcf4e",
   "metadata": {},
   "outputs": [
    {
     "data": {
      "text/html": [
       "<div>\n",
       "<style scoped>\n",
       "    .dataframe tbody tr th:only-of-type {\n",
       "        vertical-align: middle;\n",
       "    }\n",
       "\n",
       "    .dataframe tbody tr th {\n",
       "        vertical-align: top;\n",
       "    }\n",
       "\n",
       "    .dataframe thead th {\n",
       "        text-align: right;\n",
       "    }\n",
       "</style>\n",
       "<table border=\"1\" class=\"dataframe\">\n",
       "  <thead>\n",
       "    <tr style=\"text-align: right;\">\n",
       "      <th></th>\n",
       "      <th>ID</th>\n",
       "      <th>사고일시</th>\n",
       "      <th>사고유형 - 세부분류</th>\n",
       "      <th>가해운전자 차종</th>\n",
       "      <th>가해운전자 성별</th>\n",
       "      <th>가해운전자 연령</th>\n",
       "      <th>가해운전자 상해정도</th>\n",
       "      <th>피해운전자 차종</th>\n",
       "      <th>피해운전자 성별</th>\n",
       "      <th>피해운전자 연령</th>\n",
       "      <th>...</th>\n",
       "      <th>법규위반_교차로운행방법위반</th>\n",
       "      <th>법규위반_기타</th>\n",
       "      <th>법규위반_보행자보호의무위반</th>\n",
       "      <th>법규위반_불법유턴</th>\n",
       "      <th>법규위반_신호위반</th>\n",
       "      <th>법규위반_안전거리미확보</th>\n",
       "      <th>법규위반_안전운전불이행</th>\n",
       "      <th>법규위반_중앙선침범</th>\n",
       "      <th>법규위반_직진우회전진행방해</th>\n",
       "      <th>법규위반_차로위반</th>\n",
       "    </tr>\n",
       "  </thead>\n",
       "  <tbody>\n",
       "    <tr>\n",
       "      <th>0</th>\n",
       "      <td>ACCIDENT_00000</td>\n",
       "      <td>2019-01-01 00</td>\n",
       "      <td>길가장자리구역통행중</td>\n",
       "      <td>승용</td>\n",
       "      <td>여</td>\n",
       "      <td>51세</td>\n",
       "      <td>상해없음</td>\n",
       "      <td>보행자</td>\n",
       "      <td>여</td>\n",
       "      <td>70세</td>\n",
       "      <td>...</td>\n",
       "      <td>0.0</td>\n",
       "      <td>0.0</td>\n",
       "      <td>0.0</td>\n",
       "      <td>0.0</td>\n",
       "      <td>0.0</td>\n",
       "      <td>0.0</td>\n",
       "      <td>1.0</td>\n",
       "      <td>0.0</td>\n",
       "      <td>0.0</td>\n",
       "      <td>0.0</td>\n",
       "    </tr>\n",
       "    <tr>\n",
       "      <th>1</th>\n",
       "      <td>ACCIDENT_00001</td>\n",
       "      <td>2019-01-01 00</td>\n",
       "      <td>보도통행중</td>\n",
       "      <td>승용</td>\n",
       "      <td>남</td>\n",
       "      <td>39세</td>\n",
       "      <td>상해없음</td>\n",
       "      <td>보행자</td>\n",
       "      <td>남</td>\n",
       "      <td>61세</td>\n",
       "      <td>...</td>\n",
       "      <td>0.0</td>\n",
       "      <td>1.0</td>\n",
       "      <td>0.0</td>\n",
       "      <td>0.0</td>\n",
       "      <td>0.0</td>\n",
       "      <td>0.0</td>\n",
       "      <td>0.0</td>\n",
       "      <td>0.0</td>\n",
       "      <td>0.0</td>\n",
       "      <td>0.0</td>\n",
       "    </tr>\n",
       "    <tr>\n",
       "      <th>2</th>\n",
       "      <td>ACCIDENT_00002</td>\n",
       "      <td>2019-01-01 01</td>\n",
       "      <td>차도통행중</td>\n",
       "      <td>승용</td>\n",
       "      <td>남</td>\n",
       "      <td>70세</td>\n",
       "      <td>상해없음</td>\n",
       "      <td>보행자</td>\n",
       "      <td>남</td>\n",
       "      <td>38세</td>\n",
       "      <td>...</td>\n",
       "      <td>0.0</td>\n",
       "      <td>0.0</td>\n",
       "      <td>0.0</td>\n",
       "      <td>0.0</td>\n",
       "      <td>0.0</td>\n",
       "      <td>0.0</td>\n",
       "      <td>1.0</td>\n",
       "      <td>0.0</td>\n",
       "      <td>0.0</td>\n",
       "      <td>0.0</td>\n",
       "    </tr>\n",
       "    <tr>\n",
       "      <th>3</th>\n",
       "      <td>ACCIDENT_00003</td>\n",
       "      <td>2019-01-01 02</td>\n",
       "      <td>추돌</td>\n",
       "      <td>승용</td>\n",
       "      <td>남</td>\n",
       "      <td>49세</td>\n",
       "      <td>상해없음</td>\n",
       "      <td>승용</td>\n",
       "      <td>남</td>\n",
       "      <td>36세</td>\n",
       "      <td>...</td>\n",
       "      <td>0.0</td>\n",
       "      <td>0.0</td>\n",
       "      <td>0.0</td>\n",
       "      <td>0.0</td>\n",
       "      <td>0.0</td>\n",
       "      <td>0.0</td>\n",
       "      <td>1.0</td>\n",
       "      <td>0.0</td>\n",
       "      <td>0.0</td>\n",
       "      <td>0.0</td>\n",
       "    </tr>\n",
       "    <tr>\n",
       "      <th>4</th>\n",
       "      <td>ACCIDENT_00004</td>\n",
       "      <td>2019-01-01 04</td>\n",
       "      <td>추돌</td>\n",
       "      <td>승용</td>\n",
       "      <td>남</td>\n",
       "      <td>30세</td>\n",
       "      <td>상해없음</td>\n",
       "      <td>승용</td>\n",
       "      <td>남</td>\n",
       "      <td>52세</td>\n",
       "      <td>...</td>\n",
       "      <td>0.0</td>\n",
       "      <td>0.0</td>\n",
       "      <td>0.0</td>\n",
       "      <td>0.0</td>\n",
       "      <td>0.0</td>\n",
       "      <td>0.0</td>\n",
       "      <td>1.0</td>\n",
       "      <td>0.0</td>\n",
       "      <td>0.0</td>\n",
       "      <td>0.0</td>\n",
       "    </tr>\n",
       "  </tbody>\n",
       "</table>\n",
       "<p>5 rows × 259 columns</p>\n",
       "</div>"
      ],
      "text/plain": [
       "               ID           사고일시 사고유형 - 세부분류 가해운전자 차종 가해운전자 성별 가해운전자 연령  \\\n",
       "0  ACCIDENT_00000  2019-01-01 00  길가장자리구역통행중       승용        여      51세   \n",
       "1  ACCIDENT_00001  2019-01-01 00       보도통행중       승용        남      39세   \n",
       "2  ACCIDENT_00002  2019-01-01 01       차도통행중       승용        남      70세   \n",
       "3  ACCIDENT_00003  2019-01-01 02          추돌       승용        남      49세   \n",
       "4  ACCIDENT_00004  2019-01-01 04          추돌       승용        남      30세   \n",
       "\n",
       "  가해운전자 상해정도 피해운전자 차종 피해운전자 성별 피해운전자 연령  ... 법규위반_교차로운행방법위반  법규위반_기타  \\\n",
       "0       상해없음      보행자        여      70세  ...            0.0      0.0   \n",
       "1       상해없음      보행자        남      61세  ...            0.0      1.0   \n",
       "2       상해없음      보행자        남      38세  ...            0.0      0.0   \n",
       "3       상해없음       승용        남      36세  ...            0.0      0.0   \n",
       "4       상해없음       승용        남      52세  ...            0.0      0.0   \n",
       "\n",
       "   법규위반_보행자보호의무위반  법규위반_불법유턴  법규위반_신호위반  법규위반_안전거리미확보  법규위반_안전운전불이행  \\\n",
       "0             0.0        0.0        0.0           0.0           1.0   \n",
       "1             0.0        0.0        0.0           0.0           0.0   \n",
       "2             0.0        0.0        0.0           0.0           1.0   \n",
       "3             0.0        0.0        0.0           0.0           1.0   \n",
       "4             0.0        0.0        0.0           0.0           1.0   \n",
       "\n",
       "   법규위반_중앙선침범  법규위반_직진우회전진행방해  법규위반_차로위반  \n",
       "0         0.0             0.0        0.0  \n",
       "1         0.0             0.0        0.0  \n",
       "2         0.0             0.0        0.0  \n",
       "3         0.0             0.0        0.0  \n",
       "4         0.0             0.0        0.0  \n",
       "\n",
       "[5 rows x 259 columns]"
      ]
     },
     "execution_count": 55,
     "metadata": {},
     "output_type": "execute_result"
    }
   ],
   "source": [
    "from sklearn.preprocessing import OneHotEncoder\n",
    "\n",
    "# 원-핫 인코딩을 적용할 범주형 변수 선택\n",
    "categorical_features = ['요일', '기상상태', '시군구', '도로형태', '노면상태', '사고유형','법규위반']\n",
    "\n",
    "# 원-핫 인코더 초기화\n",
    "onehot_encoder = OneHotEncoder(sparse=False)\n",
    "\n",
    "# 원-핫 인코딩 적용\n",
    "encoded_features = onehot_encoder.fit_transform(train_df_filled[categorical_features])\n",
    "\n",
    "# 인코딩된 특성의 열 이름 가져오기\n",
    "encoded_feature_names = onehot_encoder.get_feature_names_out(categorical_features)\n",
    "\n",
    "# 원-핫 인코딩된 특성을 DataFrame으로 변환\n",
    "encoded_df = pd.DataFrame(encoded_features, columns=encoded_feature_names)\n",
    "\n",
    "# 원본 데이터프레임에서 범주형 변수 제거 후 인코딩된 특성 추가\n",
    "train_df_ready = train_df_filled.drop(categorical_features, axis=1).join(encoded_df)\n",
    "\n",
    "train_df_ready.head()\n"
   ]
  },
  {
   "cell_type": "code",
   "execution_count": 41,
   "id": "958a1ef3",
   "metadata": {},
   "outputs": [
    {
     "data": {
      "text/plain": [
       "1.7641862925564254e-28"
      ]
     },
     "execution_count": 41,
     "metadata": {},
     "output_type": "execute_result"
    }
   ],
   "source": [
    "from sklearn.model_selection import train_test_split\n",
    "from sklearn.linear_model import LinearRegression\n",
    "from sklearn.metrics import mean_squared_error\n",
    "\n",
    "# 타겟 변수와 특성 변수 분리\n",
    "X = train_df_ready.drop(['ID', '사고일시', '사고유형 - 세부분류', '가해운전자 차종', '가해운전자 성별', '가해운전자 연령', '가해운전자 상해정도', '피해운전자 차종', '피해운전자 성별', '피해운전자 연령', '피해운전자 상해정도', 'ECLO'], axis=1)\n",
    "y = train_df_ready['ECLO']\n",
    "\n",
    "# 훈련 세트와 테스트 세트 분리\n",
    "X_train, X_test, y_train, y_test = train_test_split(X, y, test_size=0.2, random_state=42)\n",
    "\n",
    "# 선형 회귀 모델 생성 및 훈련\n",
    "model = LinearRegression()\n",
    "model.fit(X_train, y_train)\n",
    "\n",
    "# 테스트 세트에서 성능 평가\n",
    "y_pred = model.predict(X_test)\n",
    "mse = mean_squared_error(y_test, y_pred)\n",
    "\n",
    "mse\n"
   ]
  },
  {
   "cell_type": "code",
   "execution_count": 61,
   "id": "dc056a42",
   "metadata": {},
   "outputs": [],
   "source": [
    "# Removing '법규위반' from the list of categorical features for the test data\n",
    "categorical_features_test = ['요일', '기상상태', '시군구', '도로형태', '노면상태', '사고유형']\n"
   ]
  },
  {
   "cell_type": "code",
   "execution_count": 62,
   "id": "5452af58",
   "metadata": {},
   "outputs": [
    {
     "data": {
      "text/plain": [
       "array([0.01918548, 0.01918548, 0.01918548, 0.01918548, 0.01918548,\n",
       "       0.01918548, 0.01918548, 0.01918548, 0.01918548, 0.01918548])"
      ]
     },
     "execution_count": 62,
     "metadata": {},
     "output_type": "execute_result"
    }
   ],
   "source": [
    "# Creating a new OneHotEncoder instance for the test data\n",
    "onehot_encoder_test = OneHotEncoder(sparse=False)\n",
    "\n",
    "# Fitting and transforming the test data with the new encoder\n",
    "encoded_test_features_new = onehot_encoder_test.fit_transform(test_df_filled[categorical_features_test])\n",
    "encoded_feature_names_new = onehot_encoder_test.get_feature_names_out(categorical_features_test)\n",
    "encoded_test_df_new = pd.DataFrame(encoded_test_features_new, columns=encoded_feature_names_new)\n",
    "\n",
    "# Preparing the test data by adding encoded features and removing original categorical features\n",
    "test_df_ready_new = test_df_filled.drop(categorical_features_test, axis=1).join(encoded_test_df_new)\n",
    "\n",
    "# Aligning the columns of the test data with those of the training data\n",
    "# This step is crucial to ensure that the model receives the same number of features during prediction\n",
    "test_df_ready_new = test_df_ready_new.reindex(columns=X_train.columns, fill_value=0)\n",
    "\n",
    "# Predicting using the trained model\n",
    "y_pred_test_new = model.predict(test_df_ready_new)\n",
    "\n",
    "# Displaying the first few predictions\n",
    "y_pred_test_new[:10]\n"
   ]
  },
  {
   "cell_type": "markdown",
   "id": "df9ba982",
   "metadata": {},
   "source": [
    "### XGBoost"
   ]
  },
  {
   "cell_type": "markdown",
   "id": "5bfce70c",
   "metadata": {},
   "source": [
    "###### test 데이터 전처리 진행"
   ]
  },
  {
   "cell_type": "code",
   "execution_count": 85,
   "id": "fc3d855f",
   "metadata": {},
   "outputs": [],
   "source": [
    "import pandas as pd\n",
    "train_data='C:/Users/82106/Desktop/데이터분석 프로젝트/대구 교통사고 피해 예측 AI 경진대회/open/open/train.csv'\n",
    "test_data='C:/Users/82106/Desktop/데이터분석 프로젝트/대구 교통사고 피해 예측 AI 경진대회/open/open/test.csv'\n",
    "train_df = pd.read_csv(train_data)\n",
    "test_df = pd.read_csv(test_data)"
   ]
  },
  {
   "cell_type": "code",
   "execution_count": 86,
   "id": "5cf42210",
   "metadata": {},
   "outputs": [],
   "source": [
    "# 결측치 처리: 가장 빈번한 값으로 결측치를 대체합니다.\n",
    "# 먼저 가장 빈번한 값을 찾습니다.\n",
    "most_frequent_values = train_df.mode().iloc[0]\n",
    "\n",
    "# 이제 훈련 데이터와 테스트 데이터에 결측치를 대체합니다.\n",
    "train_df_filled = train_df.fillna(most_frequent_values)\n",
    "test_df_filled = test_df.fillna(most_frequent_values)\n"
   ]
  },
  {
   "cell_type": "code",
   "execution_count": 89,
   "id": "11c9b783",
   "metadata": {},
   "outputs": [],
   "source": [
    "# 원-핫 인코딩 적용\n",
    "# 원-핫 인코더를 초기화하고 훈련 데이터에 적용합니다.\n",
    "onehot_encoder = OneHotEncoder(sparse=False)\n",
    "encoded_train_features = onehot_encoder.fit_transform(train_df_filled[categorical_features])\n"
   ]
  },
  {
   "cell_type": "code",
   "execution_count": 90,
   "id": "5546ef93",
   "metadata": {},
   "outputs": [],
   "source": [
    "# 인코딩된 특성을 훈련 데이터에 추가하고 원래 범주형 변수 제거\n",
    "encoded_train_df = pd.DataFrame(encoded_train_features, columns=onehot_encoder.get_feature_names_out(categorical_features))\n",
    "train_df_ready = train_df_filled.drop(categorical_features, axis=1).join(encoded_train_df)"
   ]
  },
  {
   "cell_type": "code",
   "execution_count": 93,
   "id": "57f377d3",
   "metadata": {},
   "outputs": [],
   "source": [
    "# '법규위반'을 제외한 범주형 변수 목록\n",
    "categorical_features_without_violation = ['요일', '기상상태', '시군구', '도로형태', '노면상태', '사고유형']\n",
    "\n",
    "# 원-핫 인코더 재설정\n",
    "onehot_encoder = OneHotEncoder(sparse=False)\n",
    "onehot_encoder.fit(train_df_filled[categorical_features_without_violation])\n",
    "\n",
    "# 훈련 데이터에 대해 원-핫 인코딩 적용\n",
    "encoded_train_features = onehot_encoder.transform(train_df_filled[categorical_features_without_violation])\n",
    "encoded_train_df = pd.DataFrame(encoded_train_features, columns=onehot_encoder.get_feature_names_out(categorical_features_without_violation))\n",
    "train_df_ready = train_df_filled.drop(categorical_features_without_violation, axis=1).join(encoded_train_df)\n",
    "\n",
    "# 테스트 데이터에 대해 원-핫 인코딩 적용\n",
    "encoded_test_features = onehot_encoder.transform(test_df_filled[categorical_features_without_violation])\n",
    "encoded_test_df = pd.DataFrame(encoded_test_features, columns=onehot_encoder.get_feature_names_out(categorical_features_without_violation))\n",
    "test_df_ready = test_df_filled.drop(categorical_features_without_violation, axis=1).join(encoded_test_df)"
   ]
  },
  {
   "cell_type": "markdown",
   "id": "d44727b1",
   "metadata": {},
   "source": [
    "##### train 데이터 다시 전처리"
   ]
  },
  {
   "cell_type": "code",
   "execution_count": 98,
   "id": "31233345",
   "metadata": {},
   "outputs": [
    {
     "data": {
      "text/plain": [
       "피해운전자 차종      991\n",
       "피해운전자 성별      991\n",
       "피해운전자 연령      991\n",
       "피해운전자 상해정도    991\n",
       "dtype: int64"
      ]
     },
     "execution_count": 98,
     "metadata": {},
     "output_type": "execute_result"
    }
   ],
   "source": [
    "# 결측치 확인\n",
    "train_missing_values = train_df.isnull().sum()\n",
    "train_missing_values[train_missing_values > 0]\n"
   ]
  },
  {
   "cell_type": "code",
   "execution_count": 99,
   "id": "dc1a8217",
   "metadata": {},
   "outputs": [
    {
     "data": {
      "text/plain": [
       "(ID             0\n",
       " 사고일시           0\n",
       " 요일             0\n",
       " 기상상태           0\n",
       " 시군구            0\n",
       " 도로형태           0\n",
       " 노면상태           0\n",
       " 사고유형           0\n",
       " 사고유형 - 세부분류    0\n",
       " 법규위반           0\n",
       " 가해운전자 차종       0\n",
       " 가해운전자 성별       0\n",
       " 가해운전자 연령       0\n",
       " 가해운전자 상해정도     0\n",
       " 피해운전자 차종       0\n",
       " 피해운전자 성별       0\n",
       " 피해운전자 연령       0\n",
       " 피해운전자 상해정도     0\n",
       " 사망자수           0\n",
       " 중상자수           0\n",
       " 경상자수           0\n",
       " 부상자수           0\n",
       " ECLO           0\n",
       " dtype: int64,\n",
       " 피해운전자 차종       승용\n",
       " 피해운전자 성별        남\n",
       " 피해운전자 연령      59세\n",
       " 피해운전자 상해정도     경상\n",
       " Name: 0, dtype: object)"
      ]
     },
     "execution_count": 99,
     "metadata": {},
     "output_type": "execute_result"
    }
   ],
   "source": [
    "# 각 변수의 가장 빈번한 값 찾기\n",
    "most_frequent_values = train_df[['피해운전자 차종', '피해운전자 성별', '피해운전자 연령', '피해운전자 상해정도']].mode().iloc[0]\n",
    "most_frequent_values\n",
    "\n",
    "# 결측치를 가장 빈번한 값으로 대체\n",
    "train_df_filled = train_df.fillna(most_frequent_values)\n",
    "\n",
    "# 대체 후 결측치 확인\n",
    "missing_values_after_filling = train_df_filled.isnull().sum()\n",
    "missing_values_after_filling, most_frequent_values"
   ]
  },
  {
   "cell_type": "code",
   "execution_count": 103,
   "id": "d34c0e15",
   "metadata": {},
   "outputs": [
    {
     "name": "stdout",
     "output_type": "stream",
     "text": [
      "<class 'pandas.core.frame.DataFrame'>\n",
      "RangeIndex: 39609 entries, 0 to 39608\n",
      "Columns: 259 entries, ID to 법규위반_차로위반\n",
      "dtypes: float64(243), int64(5), object(11)\n",
      "memory usage: 78.3+ MB\n"
     ]
    }
   ],
   "source": [
    "from sklearn.preprocessing import OneHotEncoder\n",
    "\n",
    "# 원-핫 인코딩을 적용할 범주형 변수 선택\n",
    "categorical_features = ['요일', '기상상태', '시군구', '도로형태', '노면상태', '사고유형','법규위반']\n",
    "\n",
    "# 원-핫 인코더 초기화\n",
    "onehot_encoder = OneHotEncoder(sparse=False)\n",
    "\n",
    "# 원-핫 인코딩 적용\n",
    "encoded_features = onehot_encoder.fit_transform(train_df_filled[categorical_features])\n",
    "\n",
    "# 인코딩된 특성의 열 이름 가져오기\n",
    "encoded_feature_names = onehot_encoder.get_feature_names_out(categorical_features)\n",
    "\n",
    "# 원-핫 인코딩된 특성을 DataFrame으로 변환\n",
    "encoded_df = pd.DataFrame(encoded_features, columns=encoded_feature_names)\n",
    "\n",
    "# 원본 데이터프레임에서 범주형 변수 제거 후 인코딩된 특성 추가\n",
    "train_df_ready = train_df_filled.drop(categorical_features, axis=1).join(encoded_df)\n",
    "\n",
    "train_df_ready.info()\n"
   ]
  },
  {
   "cell_type": "code",
   "execution_count": 104,
   "id": "9f31ed3a",
   "metadata": {},
   "outputs": [
    {
     "data": {
      "text/plain": [
       "XGBRegressor(base_score=None, booster=None, callbacks=None,\n",
       "             colsample_bylevel=None, colsample_bynode=None,\n",
       "             colsample_bytree=None, device=None, early_stopping_rounds=None,\n",
       "             enable_categorical=False, eval_metric=None, feature_types=None,\n",
       "             gamma=None, grow_policy=None, importance_type=None,\n",
       "             interaction_constraints=None, learning_rate=None, max_bin=None,\n",
       "             max_cat_threshold=None, max_cat_to_onehot=None,\n",
       "             max_delta_step=None, max_depth=None, max_leaves=None,\n",
       "             min_child_weight=None, missing=nan, monotone_constraints=None,\n",
       "             multi_strategy=None, n_estimators=None, n_jobs=None,\n",
       "             num_parallel_tree=None, random_state=None, ...)"
      ]
     },
     "execution_count": 104,
     "metadata": {},
     "output_type": "execute_result"
    }
   ],
   "source": [
    "# XGBoost 회귀 모델 생성\n",
    "xgb_model = xgb.XGBRegressor(objective='reg:squarederror')\n",
    "\n",
    "# 훈련 데이터에서 비수치형 컬럼을 제외하고 타겟 변수와 특성을 분리\n",
    "X_train = train_df_ready.select_dtypes(include=['int64', 'float64'])\n",
    "y_train = train_df_ready['ECLO']\n",
    "\n",
    "# 모델 훈련\n",
    "xgb_model.fit(X_train, y_train)\n"
   ]
  },
  {
   "cell_type": "code",
   "execution_count": 109,
   "id": "4a5e9aa5",
   "metadata": {},
   "outputs": [],
   "source": [
    "# 테스트 데이터에서 훈련 데이터의 특성에 해당하는 컬럼만을 선택\n",
    "# 또한 테스트 데이터에 없는 특성에 대해서는 무시\n",
    "X_test = test_df_ready.reindex(columns=train_features).fillna(0)\n",
    "\n",
    "# 예측 수행\n",
    "y_pred_test = xgb_model.predict(X_test)"
   ]
  },
  {
   "cell_type": "markdown",
   "id": "581e7635",
   "metadata": {},
   "source": [
    "##### 모델 평가 하기"
   ]
  },
  {
   "cell_type": "code",
   "execution_count": 115,
   "id": "b0b97804",
   "metadata": {},
   "outputs": [
    {
     "name": "stdout",
     "output_type": "stream",
     "text": [
      "RMSE:  0.06701831691265782\n"
     ]
    }
   ],
   "source": [
    "from sklearn.model_selection import train_test_split\n",
    "from sklearn.metrics import mean_squared_error\n",
    "import numpy as np\n",
    "\n",
    "# 훈련 데이터셋을 훈련 및 검증 데이터셋으로 분리\n",
    "X_train, X_valid, y_train, y_valid = train_test_split(\n",
    "    X_train, y_train, test_size=0.2, random_state=42)\n",
    "\n",
    "# 모델 훈련\n",
    "xgb_model = xgb.XGBRegressor(objective='reg:squarederror')\n",
    "xgb_model.fit(X_train, y_train)\n",
    "\n",
    "# 검증 데이터셋에 대한 예측 수행\n",
    "y_pred_valid = xgb_model.predict(X_valid)\n",
    "\n",
    "# RMSE 계산\n",
    "rmse = np.sqrt(mean_squared_error(y_valid, y_pred_valid))\n",
    "print(\"RMSE: \", rmse)\n"
   ]
  },
  {
   "cell_type": "code",
   "execution_count": 111,
   "id": "e05673ac",
   "metadata": {},
   "outputs": [
    {
     "data": {
      "text/plain": [
       "'C:/Users/82106/Desktop/데이터분석 프로젝트/대구 교통사고 피해 예측 AI 경진대회/open/open/submission_xgboost.csv'"
      ]
     },
     "execution_count": 111,
     "metadata": {},
     "output_type": "execute_result"
    }
   ],
   "source": [
    "# 제출 파일 생성\n",
    "sample_submission_df = pd.read_csv('C:/Users/82106/Desktop/데이터분석 프로젝트/대구 교통사고 피해 예측 AI 경진대회/open/open/sample_submission.csv')\n",
    "sample_submission_df['ECLO'] = y_pred_test\n",
    "\n",
    "# 예측 결과를 CSV 파일로 저장\n",
    "submission_file = 'C:/Users/82106/Desktop/데이터분석 프로젝트/대구 교통사고 피해 예측 AI 경진대회/open/open/submission_xgboost.csv'\n",
    "sample_submission_df.to_csv(submission_file, index=False)\n",
    "# 제출 파일 경로 반환\n",
    "submission_file"
   ]
  },
  {
   "cell_type": "markdown",
   "id": "6b9ed311",
   "metadata": {},
   "source": [
    "### xgboost 오버피팅 확인하기"
   ]
  },
  {
   "cell_type": "code",
   "execution_count": 116,
   "id": "3a4097d0",
   "metadata": {},
   "outputs": [
    {
     "name": "stdout",
     "output_type": "stream",
     "text": [
      "RMSE on Training set:  0.00011669734611522376\n",
      "RMSE on Validation set:  0.11442886412968958\n"
     ]
    }
   ],
   "source": [
    "from sklearn.model_selection import train_test_split\n",
    "from sklearn.metrics import mean_squared_error\n",
    "import numpy as np\n",
    "import xgboost as xgb\n",
    "\n",
    "# 훈련 데이터셋을 훈련 및 검증 데이터셋으로 분리\n",
    "X_train_full, X_valid, y_train_full, y_valid = train_test_split(\n",
    "    X_train, y_train, test_size=0.2, random_state=42)\n",
    "\n",
    "# XGBoost 회귀 모델 생성\n",
    "xgb_model = xgb.XGBRegressor(objective='reg:squarederror')\n",
    "\n",
    "# 모델 훈련\n",
    "xgb_model.fit(X_train_full, y_train_full)\n",
    "\n",
    "# 훈련 데이터셋과 검증 데이터셋에 대한 예측\n",
    "y_pred_train = xgb_model.predict(X_train_full)\n",
    "y_pred_valid = xgb_model.predict(X_valid)\n",
    "\n",
    "# RMSE 계산\n",
    "rmse_train = np.sqrt(mean_squared_error(y_train_full, y_pred_train))\n",
    "rmse_valid = np.sqrt(mean_squared_error(y_valid, y_pred_valid))\n",
    "\n",
    "print(\"RMSE on Training set: \", rmse_train)\n",
    "print(\"RMSE on Validation set: \", rmse_valid)\n",
    "\n"
   ]
  },
  {
   "cell_type": "markdown",
   "id": "8d91739c",
   "metadata": {},
   "source": [
    "오버피팅이 나타남"
   ]
  },
  {
   "cell_type": "markdown",
   "id": "b1c4b4f4",
   "metadata": {},
   "source": [
    "##### 교차검증 수행"
   ]
  },
  {
   "cell_type": "code",
   "execution_count": 117,
   "id": "89f46bf6",
   "metadata": {},
   "outputs": [
    {
     "name": "stdout",
     "output_type": "stream",
     "text": [
      "RMSE scores: [0.10533165 0.13279049 0.02103458 0.14079578 0.11731998]\n",
      "Mean RMSE: 0.10345449605799736\n",
      "Standard deviation: 0.04299718644754564\n"
     ]
    }
   ],
   "source": [
    "from sklearn.model_selection import cross_val_score\n",
    "import numpy as np\n",
    "import xgboost as xgb\n",
    "\n",
    "# XGBoost 회귀 모델 생성\n",
    "xgb_model = xgb.XGBRegressor(objective='reg:squarederror')\n",
    "\n",
    "# 교차 검증을 사용하여 RMSE 계산\n",
    "# 여기서는 5-폴드 교차 검증을 사용합니다.\n",
    "scores = cross_val_score(xgb_model, X_train, y_train, scoring='neg_mean_squared_error', cv=5)\n",
    "\n",
    "# RMSE 계산\n",
    "rmse_scores = np.sqrt(-scores)\n",
    "\n",
    "# 결과 출력\n",
    "print(\"RMSE scores:\", rmse_scores)\n",
    "print(\"Mean RMSE:\", rmse_scores.mean())\n",
    "print(\"Standard deviation:\", rmse_scores.std())\n"
   ]
  },
  {
   "cell_type": "markdown",
   "id": "886e682a",
   "metadata": {},
   "source": [
    "오버피팅이 나타나므로 다른 모델적용"
   ]
  },
  {
   "cell_type": "markdown",
   "id": "758883c8",
   "metadata": {},
   "source": [
    "### 베이지안 회귀"
   ]
  },
  {
   "cell_type": "code",
   "execution_count": 118,
   "id": "9dd6ce66",
   "metadata": {},
   "outputs": [
    {
     "name": "stdout",
     "output_type": "stream",
     "text": [
      "RMSE on Validation set:  7.441738090637709e-13\n"
     ]
    }
   ],
   "source": [
    "from sklearn.linear_model import BayesianRidge\n",
    "from sklearn.model_selection import train_test_split\n",
    "from sklearn.metrics import mean_squared_error\n",
    "import numpy as np\n",
    "\n",
    "# 훈련 데이터셋을 훈련 및 검증 데이터셋으로 분리\n",
    "X_train, X_valid, y_train, y_valid = train_test_split(\n",
    "    X_train, y_train, test_size=0.2, random_state=42)\n",
    "\n",
    "# 베이지안 회귀 모델 생성\n",
    "bayesian_model = BayesianRidge()\n",
    "\n",
    "# 모델 훈련\n",
    "bayesian_model.fit(X_train, y_train)\n",
    "\n",
    "# 검증 데이터셋에 대한 예측\n",
    "y_pred_valid = bayesian_model.predict(X_valid)\n",
    "\n",
    "# RMSE 계산\n",
    "rmse = np.sqrt(mean_squared_error(y_valid, y_pred_valid))\n",
    "print(\"RMSE on Validation set: \", rmse)\n"
   ]
  },
  {
   "cell_type": "code",
   "execution_count": 119,
   "id": "538cd763",
   "metadata": {},
   "outputs": [
    {
     "data": {
      "text/plain": [
       "BayesianRidge()"
      ]
     },
     "execution_count": 119,
     "metadata": {},
     "output_type": "execute_result"
    }
   ],
   "source": [
    "# 훈련 데이터에서 비수치형 컬럼을 제외하고 타겟 변수와 특성을 분리\n",
    "X_train = train_df_ready.select_dtypes(include=['int64', 'float64'])\n",
    "y_train = train_df_ready['ECLO']\n",
    "\n",
    "# 모델 훈련\n",
    "bayesian_model.fit(X_train, y_train)"
   ]
  },
  {
   "cell_type": "code",
   "execution_count": 121,
   "id": "9ab61bf7",
   "metadata": {},
   "outputs": [],
   "source": [
    "# 테스트 데이터에서 훈련 데이터의 특성에 해당하는 컬럼만을 선택\n",
    "# 또한 테스트 데이터에 없는 특성에 대해서는 무시\n",
    "X_test = test_df_ready.reindex(columns=train_features).fillna(0)\n",
    "\n",
    "# 예측 수행\n",
    "y_pred_test = bayesian_model.predict(X_test)"
   ]
  },
  {
   "cell_type": "code",
   "execution_count": 122,
   "id": "2bb089cc",
   "metadata": {},
   "outputs": [
    {
     "data": {
      "text/plain": [
       "array([0.0004621, 0.0004621, 0.0004621, ..., 0.0004621, 0.0004621,\n",
       "       0.0004621])"
      ]
     },
     "execution_count": 122,
     "metadata": {},
     "output_type": "execute_result"
    }
   ],
   "source": [
    "y_pred_test"
   ]
  },
  {
   "cell_type": "code",
   "execution_count": 123,
   "id": "bf4a8ebb",
   "metadata": {},
   "outputs": [
    {
     "data": {
      "text/plain": [
       "'C:/Users/82106/Desktop/데이터분석 프로젝트/대구 교통사고 피해 예측 AI 경진대회/open/open/submission_BayesianRidge.csv'"
      ]
     },
     "execution_count": 123,
     "metadata": {},
     "output_type": "execute_result"
    }
   ],
   "source": [
    "# 제출 파일 생성\n",
    "sample_submission_df = pd.read_csv('C:/Users/82106/Desktop/데이터분석 프로젝트/대구 교통사고 피해 예측 AI 경진대회/open/open/sample_submission.csv')\n",
    "sample_submission_df['ECLO'] = y_pred_test\n",
    "\n",
    "# 예측 결과를 CSV 파일로 저장\n",
    "submission_file = 'C:/Users/82106/Desktop/데이터분석 프로젝트/대구 교통사고 피해 예측 AI 경진대회/open/open/submission_BayesianRidge.csv'\n",
    "sample_submission_df.to_csv(submission_file, index=False)\n",
    "# 제출 파일 경로 반환\n",
    "submission_file"
   ]
  },
  {
   "cell_type": "markdown",
   "id": "8af8a9e7",
   "metadata": {},
   "source": [
    "### 랜덤포레스트"
   ]
  },
  {
   "cell_type": "code",
   "execution_count": 18,
   "id": "3f662b0a",
   "metadata": {},
   "outputs": [],
   "source": [
    "from sklearn.ensemble import RandomForestRegressor\n",
    "\n",
    "# 랜덤 포레스트 회귀 모델 생성\n",
    "rf_model = RandomForestRegressor()\n",
    "\n",
    "# 모델 훈련\n",
    "rf_model.fit(X_train, y_train)\n",
    "\n",
    "# 테스트 데이터에 대한 예측\n",
    "y_pred_rf = rf_model.predict(X_test)\n",
    "\n",
    "# 성능 평가\n",
    "mse_rf = mean_squared_error(y_test, y_pred_rf)\n"
   ]
  },
  {
   "cell_type": "code",
   "execution_count": 19,
   "id": "b55d187f",
   "metadata": {},
   "outputs": [
    {
     "data": {
      "text/plain": [
       "0.07789182024741227"
      ]
     },
     "execution_count": 19,
     "metadata": {},
     "output_type": "execute_result"
    }
   ],
   "source": [
    "mse_rf"
   ]
  },
  {
   "cell_type": "code",
   "execution_count": null,
   "id": "ef08914b",
   "metadata": {},
   "outputs": [],
   "source": []
  }
 ],
 "metadata": {
  "kernelspec": {
   "display_name": "Python 3 (ipykernel)",
   "language": "python",
   "name": "python3"
  },
  "language_info": {
   "codemirror_mode": {
    "name": "ipython",
    "version": 3
   },
   "file_extension": ".py",
   "mimetype": "text/x-python",
   "name": "python",
   "nbconvert_exporter": "python",
   "pygments_lexer": "ipython3",
   "version": "3.9.12"
  }
 },
 "nbformat": 4,
 "nbformat_minor": 5
}
