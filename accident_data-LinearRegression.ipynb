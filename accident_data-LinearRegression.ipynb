{
 "cells": [
  {
   "cell_type": "code",
   "execution_count": 1,
   "id": "efc7a019",
   "metadata": {},
   "outputs": [
    {
     "name": "stderr",
     "output_type": "stream",
     "text": [
      "C:\\Users\\82106\\AppData\\Local\\Temp\\ipykernel_9040\\2916349202.py:3: DtypeWarning: Columns (6,9,12,15) have mixed types. Specify dtype option on import or set low_memory=False.\n",
      "  combined_features = pd.read_csv(combined_features)\n"
     ]
    },
    {
     "data": {
      "text/html": [
       "<div>\n",
       "<style scoped>\n",
       "    .dataframe tbody tr th:only-of-type {\n",
       "        vertical-align: middle;\n",
       "    }\n",
       "\n",
       "    .dataframe tbody tr th {\n",
       "        vertical-align: top;\n",
       "    }\n",
       "\n",
       "    .dataframe thead th {\n",
       "        text-align: right;\n",
       "    }\n",
       "</style>\n",
       "<table border=\"1\" class=\"dataframe\">\n",
       "  <thead>\n",
       "    <tr style=\"text-align: right;\">\n",
       "      <th></th>\n",
       "      <th>사고일시</th>\n",
       "      <th>시군구</th>\n",
       "      <th>사고유형</th>\n",
       "      <th>사망자수</th>\n",
       "      <th>중상자수</th>\n",
       "      <th>경상자수</th>\n",
       "      <th>시군구명</th>\n",
       "      <th>위도</th>\n",
       "      <th>경도</th>\n",
       "      <th>시설종류</th>\n",
       "      <th>위도.1</th>\n",
       "      <th>경도.1</th>\n",
       "      <th>주차장명</th>\n",
       "      <th>위도.2</th>\n",
       "      <th>경도.2</th>\n",
       "      <th>보안등위치명</th>\n",
       "      <th>위도.3</th>\n",
       "      <th>경도.3</th>\n",
       "    </tr>\n",
       "  </thead>\n",
       "  <tbody>\n",
       "    <tr>\n",
       "      <th>0</th>\n",
       "      <td>2019-01-01 00:00:00</td>\n",
       "      <td>서울특별시 강서구 방화동</td>\n",
       "      <td>차대사람</td>\n",
       "      <td>-0.104223</td>\n",
       "      <td>-0.551584</td>\n",
       "      <td>-0.069675</td>\n",
       "      <td>남구</td>\n",
       "      <td>-0.178771</td>\n",
       "      <td>0.238678</td>\n",
       "      <td>초등학교</td>\n",
       "      <td>-0.094457</td>\n",
       "      <td>0.157197</td>\n",
       "      <td>봉덕공영주차장</td>\n",
       "      <td>-0.984244</td>\n",
       "      <td>0.540923</td>\n",
       "      <td>대명1동1</td>\n",
       "      <td>-0.744797</td>\n",
       "      <td>-0.280111</td>\n",
       "    </tr>\n",
       "    <tr>\n",
       "      <th>1</th>\n",
       "      <td>2019-01-01 00:00:00</td>\n",
       "      <td>경기도 포천시 소흘읍</td>\n",
       "      <td>차대차</td>\n",
       "      <td>-0.104223</td>\n",
       "      <td>-0.551584</td>\n",
       "      <td>-0.069675</td>\n",
       "      <td>남구</td>\n",
       "      <td>-0.099101</td>\n",
       "      <td>0.666157</td>\n",
       "      <td>초등학교</td>\n",
       "      <td>0.031886</td>\n",
       "      <td>0.339451</td>\n",
       "      <td>봉삼공영주차장</td>\n",
       "      <td>-0.964612</td>\n",
       "      <td>0.424443</td>\n",
       "      <td>대명1동2</td>\n",
       "      <td>-0.740216</td>\n",
       "      <td>-0.287979</td>\n",
       "    </tr>\n",
       "    <tr>\n",
       "      <th>2</th>\n",
       "      <td>2019-01-01 00:00:00</td>\n",
       "      <td>경기도 양주시 고암동</td>\n",
       "      <td>차대차</td>\n",
       "      <td>-0.104223</td>\n",
       "      <td>1.441786</td>\n",
       "      <td>-1.144490</td>\n",
       "      <td>남구</td>\n",
       "      <td>-0.105557</td>\n",
       "      <td>0.669022</td>\n",
       "      <td>초등학교</td>\n",
       "      <td>-0.092451</td>\n",
       "      <td>0.025285</td>\n",
       "      <td>대명2동공영주차장</td>\n",
       "      <td>-0.568602</td>\n",
       "      <td>0.221959</td>\n",
       "      <td>대명1동3</td>\n",
       "      <td>-0.755178</td>\n",
       "      <td>-0.289236</td>\n",
       "    </tr>\n",
       "    <tr>\n",
       "      <th>3</th>\n",
       "      <td>2019-01-01 00:00:00</td>\n",
       "      <td>경기도 남양주시 다산동</td>\n",
       "      <td>차대사람</td>\n",
       "      <td>-0.104223</td>\n",
       "      <td>3.435155</td>\n",
       "      <td>-1.144490</td>\n",
       "      <td>남구</td>\n",
       "      <td>-0.234559</td>\n",
       "      <td>0.383111</td>\n",
       "      <td>초등학교</td>\n",
       "      <td>-0.286769</td>\n",
       "      <td>0.064243</td>\n",
       "      <td>고산골공영주차장</td>\n",
       "      <td>-1.378281</td>\n",
       "      <td>0.585222</td>\n",
       "      <td>대명1동4</td>\n",
       "      <td>-0.754399</td>\n",
       "      <td>-0.297555</td>\n",
       "    </tr>\n",
       "    <tr>\n",
       "      <th>4</th>\n",
       "      <td>2019-01-01 00:00:00</td>\n",
       "      <td>인천광역시 부평구 부평동</td>\n",
       "      <td>차대차</td>\n",
       "      <td>-0.104223</td>\n",
       "      <td>-0.551584</td>\n",
       "      <td>1.005139</td>\n",
       "      <td>남구</td>\n",
       "      <td>-0.263011</td>\n",
       "      <td>0.427609</td>\n",
       "      <td>초등학교</td>\n",
       "      <td>-0.193274</td>\n",
       "      <td>0.001128</td>\n",
       "      <td>봉덕시장공영주차장</td>\n",
       "      <td>-0.895979</td>\n",
       "      <td>0.565217</td>\n",
       "      <td>대명1동5</td>\n",
       "      <td>-0.765090</td>\n",
       "      <td>-0.298824</td>\n",
       "    </tr>\n",
       "  </tbody>\n",
       "</table>\n",
       "</div>"
      ],
      "text/plain": [
       "                  사고일시            시군구  사고유형      사망자수      중상자수      경상자수  \\\n",
       "0  2019-01-01 00:00:00  서울특별시 강서구 방화동  차대사람 -0.104223 -0.551584 -0.069675   \n",
       "1  2019-01-01 00:00:00    경기도 포천시 소흘읍   차대차 -0.104223 -0.551584 -0.069675   \n",
       "2  2019-01-01 00:00:00    경기도 양주시 고암동   차대차 -0.104223  1.441786 -1.144490   \n",
       "3  2019-01-01 00:00:00   경기도 남양주시 다산동  차대사람 -0.104223  3.435155 -1.144490   \n",
       "4  2019-01-01 00:00:00  인천광역시 부평구 부평동   차대차 -0.104223 -0.551584  1.005139   \n",
       "\n",
       "  시군구명        위도        경도  시설종류      위도.1      경도.1       주차장명      위도.2  \\\n",
       "0   남구 -0.178771  0.238678  초등학교 -0.094457  0.157197    봉덕공영주차장 -0.984244   \n",
       "1   남구 -0.099101  0.666157  초등학교  0.031886  0.339451    봉삼공영주차장 -0.964612   \n",
       "2   남구 -0.105557  0.669022  초등학교 -0.092451  0.025285  대명2동공영주차장 -0.568602   \n",
       "3   남구 -0.234559  0.383111  초등학교 -0.286769  0.064243   고산골공영주차장 -1.378281   \n",
       "4   남구 -0.263011  0.427609  초등학교 -0.193274  0.001128  봉덕시장공영주차장 -0.895979   \n",
       "\n",
       "       경도.2 보안등위치명      위도.3      경도.3  \n",
       "0  0.540923  대명1동1 -0.744797 -0.280111  \n",
       "1  0.424443  대명1동2 -0.740216 -0.287979  \n",
       "2  0.221959  대명1동3 -0.755178 -0.289236  \n",
       "3  0.585222  대명1동4 -0.754399 -0.297555  \n",
       "4  0.565217  대명1동5 -0.765090 -0.298824  "
      ]
     },
     "execution_count": 1,
     "metadata": {},
     "output_type": "execute_result"
    }
   ],
   "source": [
    "import pandas as pd\n",
    "combined_features='C:/Users/82106/Desktop/데이터분석 프로젝트/대구 교통사고 피해 예측 AI 경진대회/open/open/combined_data.csv'\n",
    "combined_features = pd.read_csv(combined_features)\n",
    "combined_features.head()"
   ]
  },
  {
   "cell_type": "code",
   "execution_count": 2,
   "id": "956a4a17",
   "metadata": {},
   "outputs": [
    {
     "data": {
      "text/plain": [
       "(57177, 18)"
      ]
     },
     "execution_count": 2,
     "metadata": {},
     "output_type": "execute_result"
    }
   ],
   "source": [
    "# 데이터셋의 크기를 줄이기 위해 데이터 샘플링을 진행\n",
    "# 예를 들어, 데이터셋의 10% 샘플을 추출\n",
    "\n",
    "combined_features = combined_features.sample(frac=0.1, random_state=0)  # 데이터의 10% 샘플\n",
    "\n",
    "# 샘플링된 데이터의 크기 확인\n",
    "combined_features.shape\n"
   ]
  },
  {
   "cell_type": "code",
   "execution_count": 3,
   "id": "b86fe317",
   "metadata": {},
   "outputs": [
    {
     "data": {
      "text/plain": [
       "((45741, 18), (11436, 18), (45741,), (11436,))"
      ]
     },
     "execution_count": 3,
     "metadata": {},
     "output_type": "execute_result"
    }
   ],
   "source": [
    "from sklearn.model_selection import train_test_split\n",
    "\n",
    "# ECLO 계산\n",
    "combined_features['ECLO'] = (combined_features['사망자수'] * 10 +\n",
    "                             combined_features['중상자수'] * 5 +\n",
    "                             combined_features['경상자수'] * 3 )\n",
    "\n",
    "# 독립 변수(X) 및 종속 변수(y) 설정\n",
    "X = combined_features.drop('ECLO', axis=1)\n",
    "y = combined_features['ECLO']\n",
    "\n",
    "# 데이터를 훈련 세트와 테스트 세트로 분리\n",
    "X_train, X_test, y_train, y_test = train_test_split(X, y, test_size=0.2, random_state=0)\n",
    "\n",
    "# 분리된 데이터의 크기 확인\n",
    "X_train.shape, X_test.shape, y_train.shape, y_test.shape\n"
   ]
  },
  {
   "cell_type": "code",
   "execution_count": null,
   "id": "5a6f6b61",
   "metadata": {},
   "outputs": [
    {
     "name": "stderr",
     "output_type": "stream",
     "text": [
      "C:\\Users\\82106\\AppData\\Local\\Temp\\ipykernel_9040\\3524624532.py:8: DtypeWarning: Columns (6,9,12,15) have mixed types. Specify dtype option on import or set low_memory=False.\n",
      "  combined_features = pd.read_csv(combined_data_path)\n"
     ]
    }
   ],
   "source": [
    "#추가 데이터 전처리\n",
    "import pandas as pd\n",
    "from sklearn.model_selection import train_test_split\n",
    "from sklearn.preprocessing import LabelEncoder\n",
    "\n",
    "# 데이터 로드\n",
    "combined_data_path = 'C:/Users/82106/Desktop/데이터분석 프로젝트/대구 교통사고 피해 예측 AI 경진대회/open/open/combined_data.csv'\n",
    "combined_features = pd.read_csv(combined_data_path)\n",
    "\n",
    "# '사고일시' 열 처리\n",
    "combined_features['사고일시'] = pd.to_datetime(combined_features['사고일시'], errors='coerce')\n",
    "combined_features['year'] = combined_features['사고일시'].dt.year\n",
    "combined_features['month'] = combined_features['사고일시'].dt.month\n",
    "combined_features['day'] = combined_features['사고일시'].dt.day\n",
    "combined_features['hour'] = combined_features['사고일시'].dt.hour\n",
    "combined_features.drop('사고일시', axis=1, inplace=True)\n",
    "\n",
    "# 범주형 데이터 레이블 인코딩\n",
    "label_encoders = {}\n",
    "for column in combined_features.select_dtypes(include=['object']).columns:\n",
    "    label_encoders[column] = LabelEncoder()\n",
    "    combined_features[column] = label_encoders[column].fit_transform(combined_features[column])\n"
   ]
  },
  {
   "cell_type": "markdown",
   "id": "df2b42cc",
   "metadata": {},
   "source": [
    "메모리 이슈로 실행 불가"
   ]
  },
  {
   "cell_type": "markdown",
   "id": "42ec720c",
   "metadata": {},
   "source": [
    "accident_data 로는 모델 학습 불가"
   ]
  },
  {
   "cell_type": "code",
   "execution_count": null,
   "id": "d317f023",
   "metadata": {},
   "outputs": [],
   "source": [
    "from sklearn.linear_model import LinearRegression\n",
    "from sklearn.metrics import mean_squared_error, mean_absolute_error\n",
    "import numpy as np\n",
    "\n",
    "# 선형 회귀 모델 생성 및 훈련\n",
    "linear_reg = LinearRegression()\n",
    "linear_reg.fit(X_train, y_train)\n",
    "\n",
    "# 테스트 데이터에 대한 예측 수행\n",
    "y_pred = linear_reg.predict(X_test)\n",
    "\n",
    "# 모델 평가: RMSE(평균 제곱근 오차) 및 MAE(평균 절대 오차) 계산\n",
    "rmse = np.sqrt(mean_squared_error(y_test, y_pred))\n",
    "mae = mean_absolute_error(y_test, y_pred)\n",
    "\n",
    "rmse, mae\n"
   ]
  }
 ],
 "metadata": {
  "kernelspec": {
   "display_name": "Python 3 (ipykernel)",
   "language": "python",
   "name": "python3"
  },
  "language_info": {
   "codemirror_mode": {
    "name": "ipython",
    "version": 3
   },
   "file_extension": ".py",
   "mimetype": "text/x-python",
   "name": "python",
   "nbconvert_exporter": "python",
   "pygments_lexer": "ipython3",
   "version": "3.9.12"
  }
 },
 "nbformat": 4,
 "nbformat_minor": 5
}
